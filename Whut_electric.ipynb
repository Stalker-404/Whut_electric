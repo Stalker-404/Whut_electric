{
  "nbformat": 4,
  "nbformat_minor": 0,
  "metadata": {
    "colab": {
      "name": "Whut_electric.ipynb",
      "provenance": [],
      "collapsed_sections": [],
      "toc_visible": true,
      "authorship_tag": "ABX9TyPEjdqpD0NNnkEqtYMSNTUR",
      "include_colab_link": true
    },
    "kernelspec": {
      "name": "python3",
      "display_name": "Python 3"
    },
    "language_info": {
      "name": "python"
    }
  },
  "cells": [
    {
      "cell_type": "markdown",
      "metadata": {
        "id": "view-in-github",
        "colab_type": "text"
      },
      "source": [
        "<a href=\"https://colab.research.google.com/github/Stalker-404/Whut_electric/blob/main/Whut_electric.ipynb\" target=\"_parent\"><img src=\"https://colab.research.google.com/assets/colab-badge.svg\" alt=\"Open In Colab\"/></a>"
      ]
    },
    {
      "cell_type": "markdown",
      "source": [
        "# 安装依赖环境"
      ],
      "metadata": {
        "id": "dCge635TQ_9A"
      }
    },
    {
      "cell_type": "code",
      "source": [
        "!pip3 install selenium\n",
        "!apt-get update \n",
        "!apt install chromium-chromedriver"
      ],
      "metadata": {
        "id": "f221ux2sEp3R"
      },
      "execution_count": null,
      "outputs": []
    },
    {
      "cell_type": "markdown",
      "source": [
        "# 填入个人信息参数"
      ],
      "metadata": {
        "id": "f3pDQUsgRFFK"
      }
    },
    {
      "cell_type": "code",
      "source": [
        "# 填入个人学号\n",
        "usercode = \"Your ID Code\"\n",
        "# 填入缴费平台密码\n",
        "passwd = \"Your Password\"\n",
        "# 校区\n",
        "area = \"Your Area\"\n",
        "# 楼栋\n",
        "building = \"Your Building\"\n",
        "# 楼层\n",
        "floor = \"Your Floor\"\n",
        "# 房间\n",
        "room = \"Your Room\"\n",
        "# 当前电价\n",
        "price = 0.59\n",
        "# 填入通过Serverchan获取的sendkey\n",
        "key = \"**********************************\""
      ],
      "metadata": {
        "id": "ySr42UyIGo3e"
      },
      "execution_count": null,
      "outputs": []
    },
    {
      "cell_type": "markdown",
      "source": [
        "# 爬取剩余电费和电量"
      ],
      "metadata": {
        "id": "7hZN7AKlRMbC"
      }
    },
    {
      "cell_type": "code",
      "execution_count": null,
      "metadata": {
        "id": "MI8dAFRNDwK2"
      },
      "outputs": [],
      "source": [
        "from selenium import webdriver\n",
        "from selenium.webdriver.support.ui import Select\n",
        "import re\n",
        "from selenium.webdriver.chrome.options import Options\n",
        "\n",
        "chrome_options = Options()\n",
        "chrome_options.add_argument('--no-sandbox')\n",
        "chrome_options.add_argument('--disable-dev-shm-usage')\n",
        "chrome_options.add_argument('--headless')\n",
        "\n",
        "driver = webdriver.Chrome(chrome_options=chrome_options)\n",
        "\n",
        "try:\n",
        "  #连接到登陆平台\n",
        "  driver.get('http://cwsf.whut.edu.cn/MNetWorkUI/slogin.html')\n",
        "\n",
        "  #忽略2022年3月25日开始出现的的弹窗信息\n",
        "  driver.implicitly_wait(20)\n",
        "  jumpalert = driver.switch_to.alert\n",
        "  jumpalert.accept() \n",
        "\n",
        "  #选择平台账号登陆\n",
        "  select_logintype = Select(driver.find_element_by_id('logintype'))\n",
        "  select_logintype.select_by_value('PLATFORM')\n",
        "  driver.implicitly_wait(20)\n",
        "\n",
        "  # 填写账号密码\n",
        "  input_account = driver.find_element_by_id('usercode')\n",
        "  input_account.send_keys(usercode)\n",
        "  input_password = driver.find_element_by_id('passwd')\n",
        "  input_password.send_keys(passwd)\n",
        "\n",
        "  # 账号登陆\n",
        "  account_login_button = driver.find_element_by_xpath('//div[@class=\"change-list-4-clearfix\"]/input[1]')\n",
        "  account_login_button .click()\n",
        "\n",
        "  # 进入缴费平台\n",
        "  driver.implicitly_wait(20)\n",
        "  click3_button = driver.find_element_by_link_text('马房山学生电费')\n",
        "  click3_button.click()\n",
        "\n",
        "  # 填写数据\n",
        "  select1 = Select(driver.find_element_by_id('areaid'))\n",
        "  select1.select_by_visible_text(area)\n",
        "  driver.implicitly_wait(20)\n",
        "  select2 = Select(driver.find_element_by_id('building'))\n",
        "  select2.select_by_visible_text(building)\n",
        "  driver.implicitly_wait(20)\n",
        "  select4 = Select(driver.find_element_by_id('floorid'))\n",
        "  select4.select_by_visible_text(floor)\n",
        "  driver.implicitly_wait(20)\n",
        "  select5 = Select(driver.find_element_by_id('roomid'))\n",
        "  select5.select_by_visible_text(room)\n",
        "\n",
        "  # 读取剩余电量字符串，并按小数点分割整数和小数部分后转换为数值量\n",
        "  result = driver.find_element_by_id('MeterOverdue').text\n",
        "  balance = re.findall(r\"\\d+\\.?\\d*\",result)\n",
        "  balance = float(''.join(balance))\n",
        "  # 按照当前电价计算剩余度数，保留两位小数\n",
        "  power = round((balance / price),2)    \n",
        "\n",
        "  # 结束运行\n",
        "  errstatus = 0\n",
        "  driver.quit()\n",
        " \n",
        "except Exception as e:\n",
        "  \n",
        "  #结束运行\n",
        "  errstatus = 1\n",
        "  driver.quit()\n",
        "\n",
        "  #保存错误信息\n",
        "  errinfo = e"
      ]
    },
    {
      "cell_type": "markdown",
      "source": [
        "# 调用ServerChan进行消息推送"
      ],
      "metadata": {
        "id": "YHYW2awARQGd"
      }
    },
    {
      "cell_type": "code",
      "source": [
        "import requests\n",
        "from urllib.parse import quote\n",
        "\n",
        "if errstatus == 0:\n",
        "  title = \"{}电费剩余{}元（{}度）\".format(room , str(balance) , str(power)) #标题\n",
        "  content = \"\"\"\n",
        "  **所在校区：**{}\\n\n",
        "  **所在楼栋：**{}\\n\n",
        "  **所在楼层：**{}\\n\n",
        "  **房间号码：**{}\n",
        "  \"\"\".format(area , building , floor , room) #信息内容\n",
        "\n",
        "else:\n",
        "  title = \"电费查询脚本出错！\"\n",
        "  content = \"\"\"\n",
        "  **所在校区：**{}\\n\n",
        "  **所在楼栋：**{}\\n\n",
        "  **所在楼层：**{}\\n\n",
        "  **房间号码：**{}\\n\n",
        "  **报错信息：** \\n\n",
        "  {}\n",
        "  \"\"\".format(area , building , floor , room , errinfo) #信息内容\n",
        "\n",
        "# 进行URL转义\n",
        "title = quote(title, 'utf-8') #对信息标题进行URL转义\n",
        "content = quote(content, 'utf-8') #对信息内容进行URL转义\n",
        "\n",
        "# 发送信息\n",
        "requests.get(\"https://sc.ftqq.com/{}.send?text={}&desp={}\".format(key,title,content))"
      ],
      "metadata": {
        "id": "WBZGSWeAKqsD"
      },
      "execution_count": null,
      "outputs": []
    }
  ]
}